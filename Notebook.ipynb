{
 "cells": [
  {
   "cell_type": "code",
   "execution_count": 1,
   "id": "4ae9ca24-dbd4-411c-b7b8-3d4ad09c4d36",
   "metadata": {},
   "outputs": [],
   "source": [
    "# from zipfile import ZipFile\n",
    "\n",
    "# with ZipFile('compressed.zip', 'r') as zf:\n",
    "#     zf.extractall('.')"
   ]
  },
  {
   "cell_type": "code",
   "execution_count": 2,
   "id": "6882b964",
   "metadata": {},
   "outputs": [],
   "source": [
    "# !pip install torchinfo\n",
    "# !pip install pandas\n",
    "# !pip install matplotlib\n",
    "# !pip install scipy"
   ]
  },
  {
   "cell_type": "code",
   "execution_count": 3,
   "id": "103f9ac0-715c-416f-9cb1-62524c4d1ff5",
   "metadata": {},
   "outputs": [
    {
     "ename": "SyntaxError",
     "evalue": "'(' was never closed (DAMSM_trainer.py, line 79)",
     "output_type": "error",
     "traceback": [
      "Traceback \u001b[0;36m(most recent call last)\u001b[0m:\n",
      "\u001b[0m  File \u001b[1;32m~/.local/lib/python3.10/site-packages/IPython/core/interactiveshell.py:3577\u001b[0m in \u001b[1;35mrun_code\u001b[0m\n    exec(code_obj, self.user_global_ns, self.user_ns)\u001b[0m\n",
      "\u001b[0;36m  Cell \u001b[0;32mIn[3], line 12\u001b[0;36m\n\u001b[0;31m    from DAMSM_trainer import *\u001b[0;36m\n",
      "\u001b[0;36m  File \u001b[0;32m~/CV_Project/DAMSM_trainer.py:79\u001b[0;36m\u001b[0m\n\u001b[0;31m    cnn_model.load_state_dict(torch.load(save_dir[1])\u001b[0m\n\u001b[0m                             ^\u001b[0m\n\u001b[0;31mSyntaxError\u001b[0m\u001b[0;31m:\u001b[0m '(' was never closed\n"
     ]
    }
   ],
   "source": [
    "import torch\n",
    "import torch.nn as nn\n",
    "import torch.nn.functional as F\n",
    "import numpy as np\n",
    "from torchinfo import summary\n",
    "from torchvision import transforms\n",
    "\n",
    "from models.Discriminator import *\n",
    "from models.Encoder import *\n",
    "from models.Generator import *\n",
    "from loss_functions import *\n",
    "from DAMSM_trainer import *\n",
    "\n",
    "import dataset\n",
    "import os\n",
    "import matplotlib.pyplot as plt\n",
    "import config.settings as config"
   ]
  },
  {
   "cell_type": "code",
   "execution_count": null,
   "id": "9e2692a4-97ef-4b04-ac89-bfb8b7f4b618",
   "metadata": {},
   "outputs": [],
   "source": [
    "rnn_model = RNN_Encoder(config.WORD_SIZE, number_hidden=config.EMBEDDING_DIM)\n",
    "\n",
    "rnn_model.load_state_dict(torch.load(\"saved_models/rnn_model_state_dict.pt\"))\n",
    "\n",
    "generator = GenerativeNetwork()\n",
    "\n",
    "generator.load_state_dict(torch.load(\"saved_models/generator_state_dict.pt\"))\n",
    "\n",
    "rnn_model.eval()\n",
    "generator.eval()"
   ]
  },
  {
   "cell_type": "code",
   "execution_count": null,
   "id": "5c4595bd-4c56-4f62-8329-7d8d95b36dc1",
   "metadata": {},
   "outputs": [],
   "source": [
    "import re\n",
    "config.DEVICE = torch.device('cpu')\n",
    "input_sentence = input(\"Write your input sentence: \").lower()\n",
    "input_sentence = re.sub('[^a-zA-Z0-9]+', ' ', input_sentence)\n",
    "input_sentence = list(map(lambda word: dataset.rev_text_dict[word], input_sentence.split()))\n",
    "\n",
    "input_len = torch.tensor(len(input_sentence)).unsqueeze(0)\n",
    "input_sentence = [np.pad(input_sentence, \n",
    "                       (0, config.SENTENCE_SIZE - input_len.squeeze())\n",
    "                       )]\n",
    "\n",
    "hidden = rnn_model.init_hidden(1)\n",
    "\n",
    "input_sentence = torch.tensor(input_sentence)\n",
    "\n",
    "word_emb, sen_emb = rnn_model(input_sentence.long(), input_len, hidden)\n",
    "\n",
    "noise = torch.randn((1, config.Z_DIM))\n",
    "\n",
    "mask = (input_sentence == 0)\n",
    "num_words = word_emb.size(2)\n",
    "if mask.size(1) > num_words:\n",
    "    mask = mask[:, :num_words]\n",
    "\n",
    "img = generator(noise, sen_emb, word_emb, mask)[0]\n",
    "\n",
    "plt.imshow(img[-1].squeeze().permute(1, 2, 0).detach().numpy())"
   ]
  }
 ],
 "metadata": {
  "kernelspec": {
   "display_name": "Python 3 (ipykernel)",
   "language": "python",
   "name": "python3"
  },
  "language_info": {
   "codemirror_mode": {
    "name": "ipython",
    "version": 3
   },
   "file_extension": ".py",
   "mimetype": "text/x-python",
   "name": "python",
   "nbconvert_exporter": "python",
   "pygments_lexer": "ipython3",
   "version": "3.10.12"
  }
 },
 "nbformat": 4,
 "nbformat_minor": 5
}
